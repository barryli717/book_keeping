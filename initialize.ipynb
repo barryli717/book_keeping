{
 "cells": [
  {
   "cell_type": "code",
   "execution_count": 1,
   "metadata": {},
   "outputs": [],
   "source": [
    "import pandas as pd"
   ]
  },
  {
   "cell_type": "code",
   "execution_count": 3,
   "metadata": {},
   "outputs": [],
   "source": [
    "df = pd.DataFrame(\n",
    "        {\"Date\":pd.to_datetime(\"2000-01-01\"),\n",
    "         \"Item\":\"Initialize\",\n",
    "         \"Amount\":[0],\n",
    "         \"DailySum\":[0],\n",
    "         \"WeeklySum\":[0],\n",
    "         \"MonthlySum\":[0],\n",
    "         \"User\":\"System\"})\n",
    "\n",
    "df['WeekID'] = df['Date'].apply(lambda x : x.weekofyear) \n",
    "df['MonthID'] = df['Date'].apply(lambda x : x.month)\n",
    "df['YearID'] = df['Date'].apply(lambda x : x.year)\n",
    "\n",
    "df.to_csv(\"data.csv\", index = False)"
   ]
  },
  {
   "cell_type": "code",
   "execution_count": null,
   "metadata": {},
   "outputs": [],
   "source": []
  }
 ],
 "metadata": {
  "kernelspec": {
   "display_name": "Python 3",
   "language": "python",
   "name": "python3"
  },
  "language_info": {
   "codemirror_mode": {
    "name": "ipython",
    "version": 3
   },
   "file_extension": ".py",
   "mimetype": "text/x-python",
   "name": "python",
   "nbconvert_exporter": "python",
   "pygments_lexer": "ipython3",
   "version": "3.7.5"
  }
 },
 "nbformat": 4,
 "nbformat_minor": 4
}
