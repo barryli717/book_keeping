{
 "cells": [
  {
   "cell_type": "code",
   "execution_count": 38,
   "metadata": {},
   "outputs": [],
   "source": [
    "import pandas as pd"
   ]
  },
  {
   "cell_type": "code",
   "execution_count": 41,
   "metadata": {},
   "outputs": [],
   "source": [
    "def summary(user, month):\n",
    "    data = pd.read_csv(\"data.csv\")\n",
    "    data = data[data['MonthID'] == pd.to_numeric(month)]\n",
    "    if user == \"both\":\n",
    "        summary = data[['Amount','User','MonthID']].groupby(['MonthID','User']).sum()\n",
    "    else:\n",
    "        summary = data[['Amount', 'MonthID']].groupby('MonthID').sum()\n",
    "        \n",
    "    print(summary)\n",
    "    return 0"
   ]
  },
  {
   "cell_type": "code",
   "execution_count": 42,
   "metadata": {},
   "outputs": [
    {
     "name": "stdin",
     "output_type": "stream",
     "text": [
      "User: (j/b/both) both\n",
      "Month:  12\n"
     ]
    },
    {
     "name": "stdout",
     "output_type": "stream",
     "text": [
      "              Amount\n",
      "MonthID User        \n",
      "12      b     159.45\n",
      "        j      14.00\n"
     ]
    }
   ],
   "source": [
    "if __name__ == '__main__':\n",
    "    user = input(\"User: (j/b/both)\")\n",
    "    month = input(\"Month: \")\n",
    "    summary(user = user, month = month)"
   ]
  },
  {
   "cell_type": "code",
   "execution_count": null,
   "metadata": {},
   "outputs": [],
   "source": []
  }
 ],
 "metadata": {
  "kernelspec": {
   "display_name": "Python 3",
   "language": "python",
   "name": "python3"
  },
  "language_info": {
   "codemirror_mode": {
    "name": "ipython",
    "version": 3
   },
   "file_extension": ".py",
   "mimetype": "text/x-python",
   "name": "python",
   "nbconvert_exporter": "python",
   "pygments_lexer": "ipython3",
   "version": "3.7.5"
  }
 },
 "nbformat": 4,
 "nbformat_minor": 4
}
