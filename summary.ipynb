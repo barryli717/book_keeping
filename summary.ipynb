{
 "cells": [
  {
   "cell_type": "code",
   "execution_count": 12,
   "metadata": {},
   "outputs": [],
   "source": [
    "import pandas as pd"
   ]
  },
  {
   "cell_type": "code",
   "execution_count": 15,
   "metadata": {},
   "outputs": [],
   "source": [
    "def summary(user, year, month):\n",
    "    data = pd.read_csv(\"data.csv\")\n",
    "    data = data[data['MonthID'] == pd.to_numeric(month)]\n",
    "    data = data[data['YearID'] == pd.to_numeric(year)]\n",
    "    if user == \"both\":\n",
    "        summary = data[['Amount','User','YearID','MonthID']].groupby(['YearID','MonthID','User']).sum()\n",
    "    else:\n",
    "        summary = data[['Amount', 'YearID', 'MonthID']].groupby('YearID','MonthID').sum()\n",
    "        \n",
    "    print(summary)\n",
    "    return 0"
   ]
  },
  {
   "cell_type": "code",
   "execution_count": 17,
   "metadata": {},
   "outputs": [
    {
     "name": "stdin",
     "output_type": "stream",
     "text": [
      "User: (j/b/both) both\n",
      "Year:  2019\n",
      "Month:  12\n"
     ]
    },
    {
     "name": "stdout",
     "output_type": "stream",
     "text": [
      "                     Amount\n",
      "YearID MonthID User        \n",
      "2019   12      b     362.51\n"
     ]
    }
   ],
   "source": [
    "if __name__ == '__main__':\n",
    "    user = input(\"User: (j/b/both)\")\n",
    "    year = input(\"Year: \")\n",
    "    month = input(\"Month: \")\n",
    "    summary(user = user, year = year, month = month)"
   ]
  },
  {
   "cell_type": "code",
   "execution_count": null,
   "metadata": {},
   "outputs": [],
   "source": []
  }
 ],
 "metadata": {
  "kernelspec": {
   "display_name": "Python 3",
   "language": "python",
   "name": "python3"
  },
  "language_info": {
   "codemirror_mode": {
    "name": "ipython",
    "version": 3
   },
   "file_extension": ".py",
   "mimetype": "text/x-python",
   "name": "python",
   "nbconvert_exporter": "python",
   "pygments_lexer": "ipython3",
   "version": "3.7.5"
  }
 },
 "nbformat": 4,
 "nbformat_minor": 4
}
