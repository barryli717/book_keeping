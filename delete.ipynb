{
 "cells": [
  {
   "cell_type": "code",
   "execution_count": 16,
   "metadata": {},
   "outputs": [],
   "source": [
    "import pandas as pd"
   ]
  },
  {
   "cell_type": "code",
   "execution_count": 17,
   "metadata": {},
   "outputs": [],
   "source": [
    "def delete(length):\n",
    "    data = pd.read_csv(\"data.csv\")\n",
    "    data.to_csv(\"backup.csv\", header = True, index = False)\n",
    "    new_data = data.iloc[:-(pd.to_numeric(length)),:]\n",
    "    new_data.to_csv(\"data.csv\", index = False)\n",
    "    print(\"Completed deleting data!\")\n",
    "    return new_data"
   ]
  },
  {
   "cell_type": "code",
   "execution_count": 18,
   "metadata": {},
   "outputs": [
    {
     "name": "stdin",
     "output_type": "stream",
     "text": [
      "Confirm to delete? (y/n) y\n",
      "How many data do you want to delete?  1\n"
     ]
    },
    {
     "name": "stdout",
     "output_type": "stream",
     "text": [
      "Completed deleting data!\n"
     ]
    }
   ],
   "source": [
    "if __name__ == '__main__':\n",
    "    confirm = input(\"Confirm to delete? (y/n)\")\n",
    "    if confirm != \"y\":\n",
    "        pass\n",
    "    else:\n",
    "        length = input(\"How many data do you want to delete? \")\n",
    "        delete(length = length)"
   ]
  },
  {
   "cell_type": "code",
   "execution_count": null,
   "metadata": {},
   "outputs": [],
   "source": []
  }
 ],
 "metadata": {
  "kernelspec": {
   "display_name": "Python 3",
   "language": "python",
   "name": "python3"
  },
  "language_info": {
   "codemirror_mode": {
    "name": "ipython",
    "version": 3
   },
   "file_extension": ".py",
   "mimetype": "text/x-python",
   "name": "python",
   "nbconvert_exporter": "python",
   "pygments_lexer": "ipython3",
   "version": "3.7.5"
  }
 },
 "nbformat": 4,
 "nbformat_minor": 4
}
