{
 "cells": [
  {
   "cell_type": "code",
   "execution_count": 14,
   "metadata": {},
   "outputs": [],
   "source": [
    "import pandas as pd \n",
    "import sys"
   ]
  },
  {
   "cell_type": "code",
   "execution_count": 15,
   "metadata": {},
   "outputs": [],
   "source": [
    "def newitem(date, item, amount, user):\n",
    "    new = pd.DataFrame({\"Date\":pd.to_datetime(date),\n",
    "                         \"Item\":item,\n",
    "                         \"Amount\":[amount]\n",
    "                         })\n",
    "    hist = pd.read_csv(\"data.csv\")\n",
    "    hist['Date'] = pd.to_datetime(hist['Date'])\n",
    "\n",
    "    try:\n",
    "        dailysum = max(pd.to_numeric(hist[hist['Date'] == pd.to_datetime(date)]['DailySum']))\n",
    "    except ValueError:\n",
    "        dailysum = 0\n",
    "        \n",
    "    new['DailySum'] = pd.to_numeric(amount) + dailysum\n",
    "\n",
    "    try:\n",
    "        weeklysum = max(pd.to_numeric(hist[hist['WeekID'] == pd.to_datetime(date).weekofyear]['WeeklySum']))\n",
    "    except ValueError:\n",
    "        weeklysum = 0\n",
    "        \n",
    "    new['WeeklySum'] = pd.to_numeric(amount) + weeklysum \n",
    "\n",
    "\n",
    "    try:\n",
    "        monthlysum = max(pd.to_numeric(hist[hist['MonthID'] == pd.to_datetime(date).month]['MonthlySum']))\n",
    "    except: \n",
    "        monthlysum = 0\n",
    "\n",
    "    new['MonthlySum'] = pd.to_numeric(amount) + monthlysum \n",
    "    \n",
    "    new['User'] = user\n",
    "    new['WeekID'] = pd.to_datetime(date).weekofyear\n",
    "    new['MonthID'] = pd.to_datetime(date).month\n",
    "    new['YearID'] = pd.to_datetime(date).year\n",
    "\n",
    "    new.to_csv(\"data.csv\", header = False, mode = 'a', index = False)\n",
    "    \n",
    "    return new.iloc[:,0:6]"
   ]
  },
  {
   "cell_type": "code",
   "execution_count": 16,
   "metadata": {},
   "outputs": [],
   "source": [
    "def cont(cont):\n",
    "    if cont == \"y\":\n",
    "        datainput()\n",
    "    elif cont == \"n\":\n",
    "        sys.exit(0)\n",
    "    else:\n",
    "        con = input(\"Continue? (y/n)\")\n",
    "        cont(cont = con)"
   ]
  },
  {
   "cell_type": "code",
   "execution_count": 17,
   "metadata": {},
   "outputs": [],
   "source": [
    "def datainput():\n",
    "    user = input(\"User: (j/b)\")\n",
    "    if user not in (\"j\",\"b\"):\n",
    "        sys.exit(0)\n",
    "    date = input(\"Date: \")\n",
    "    item = input(\"Item: \")\n",
    "    amount = input(\"Amount: \")\n",
    "    print(newitem(date = date, item = item, amount = amount, user = user))\n",
    "    \n",
    "    con = input(\"Continue? (y/n)\")\n",
    "    cont(cont = con)\n",
    "        \n",
    "    return 0"
   ]
  },
  {
   "cell_type": "code",
   "execution_count": 18,
   "metadata": {},
   "outputs": [],
   "source": [
    "def main():\n",
    "    datainput()"
   ]
  },
  {
   "cell_type": "code",
   "execution_count": 22,
   "metadata": {},
   "outputs": [
    {
     "name": "stdin",
     "output_type": "stream",
     "text": [
      "User: (j/b) b\n",
      "Date:  20191218\n",
      "Item:  pizza\n",
      "Amount:  20.69\n"
     ]
    },
    {
     "name": "stdout",
     "output_type": "stream",
     "text": [
      "        Date   Item Amount  DailySum  WeeklySum  MonthlySum\n",
      "0 2019-12-18  pizza  20.69     20.69      57.43      110.75\n"
     ]
    },
    {
     "name": "stdin",
     "output_type": "stream",
     "text": [
      "Continue? (y/n) y\n",
      "User: (j/b) b\n",
      "Date:  20191219\n",
      "Item:  whole foods\n",
      "Amount:  4.39\n"
     ]
    },
    {
     "name": "stdout",
     "output_type": "stream",
     "text": [
      "        Date         Item Amount  DailySum  WeeklySum  MonthlySum\n",
      "0 2019-12-19  whole foods   4.39      4.39      61.82      115.14\n"
     ]
    },
    {
     "name": "stdin",
     "output_type": "stream",
     "text": [
      "Continue? (y/n) y\n",
      "User: (j/b) b\n",
      "Date:  20191220\n",
      "Item:  ubereats\n",
      "Amount:  33.29\n"
     ]
    },
    {
     "name": "stdout",
     "output_type": "stream",
     "text": [
      "        Date      Item Amount  DailySum  WeeklySum  MonthlySum\n",
      "0 2019-12-20  ubereats  33.29     33.29      95.11      148.43\n"
     ]
    },
    {
     "name": "stdin",
     "output_type": "stream",
     "text": [
      "Continue? (y/n) y\n",
      "User: (j/b) b\n",
      "Date:  20191220\n",
      "Item:  ubereats\n",
      "Amount:  9.99\n"
     ]
    },
    {
     "name": "stdout",
     "output_type": "stream",
     "text": [
      "        Date      Item Amount  DailySum  WeeklySum  MonthlySum\n",
      "0 2019-12-20  ubereats   9.99     43.28      105.1      158.42\n"
     ]
    },
    {
     "name": "stdin",
     "output_type": "stream",
     "text": [
      "Continue? (y/n) y\n",
      "User: (j/b) b\n",
      "Date:  20191227\n",
      "Item:  coned\n",
      "Amount:  56.65\n"
     ]
    },
    {
     "name": "stdout",
     "output_type": "stream",
     "text": [
      "        Date   Item Amount  DailySum  WeeklySum  MonthlySum\n",
      "0 2019-12-27  coned  56.65     56.65      56.65      215.07\n"
     ]
    },
    {
     "name": "stdin",
     "output_type": "stream",
     "text": [
      "Continue? (y/n) y\n",
      "User: (j/b) b\n",
      "Date:  20191231\n",
      "Item:  att\n",
      "Amount:  102.45\n"
     ]
    },
    {
     "name": "stdout",
     "output_type": "stream",
     "text": [
      "        Date Item  Amount  DailySum  WeeklySum  MonthlySum\n",
      "0 2019-12-31  att  102.45    102.45     102.45      317.52\n"
     ]
    },
    {
     "name": "stdin",
     "output_type": "stream",
     "text": [
      "Continue? (y/n) y\n",
      "User: (j/b) b\n",
      "Date:  20191231\n",
      "Item:  spectrum\n",
      "Amount:  44.99\n"
     ]
    },
    {
     "name": "stdout",
     "output_type": "stream",
     "text": [
      "        Date      Item Amount  DailySum  WeeklySum  MonthlySum\n",
      "0 2019-12-31  spectrum  44.99    147.44     147.44      362.51\n"
     ]
    },
    {
     "name": "stdin",
     "output_type": "stream",
     "text": [
      "Continue? (y/n) n\n"
     ]
    },
    {
     "ename": "SystemExit",
     "evalue": "0",
     "output_type": "error",
     "traceback": [
      "An exception has occurred, use %tb to see the full traceback.\n",
      "\u001b[0;31mSystemExit\u001b[0m\u001b[0;31m:\u001b[0m 0\n"
     ]
    }
   ],
   "source": [
    "if __name__ == '__main__':\n",
    "    main()"
   ]
  },
  {
   "cell_type": "code",
   "execution_count": null,
   "metadata": {},
   "outputs": [],
   "source": []
  }
 ],
 "metadata": {
  "kernelspec": {
   "display_name": "Python 3",
   "language": "python",
   "name": "python3"
  },
  "language_info": {
   "codemirror_mode": {
    "name": "ipython",
    "version": 3
   },
   "file_extension": ".py",
   "mimetype": "text/x-python",
   "name": "python",
   "nbconvert_exporter": "python",
   "pygments_lexer": "ipython3",
   "version": "3.7.5"
  }
 },
 "nbformat": 4,
 "nbformat_minor": 4
}
